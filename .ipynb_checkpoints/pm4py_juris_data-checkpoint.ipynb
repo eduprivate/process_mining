{
 "cells": [
  {
   "cell_type": "code",
   "execution_count": 1,
   "id": "23e36c61-d76e-4133-afe4-7045d2e73821",
   "metadata": {},
   "outputs": [],
   "source": [
    "import pandas\n",
    "import pm4py"
   ]
  },
  {
   "cell_type": "code",
   "execution_count": 2,
   "id": "69f6af8c-9c0b-4cc8-baaa-2c509aab5140",
   "metadata": {
    "scrolled": true
   },
   "outputs": [
    {
     "name": "stdout",
     "output_type": "stream",
     "text": [
      "Start activities: {'Decisão': 383, 'Remetido ao DJE': 647, 'Remetidos os Autos para o Cartório Distribuidor Local para Anotação/Correção de Classe': 4, 'Conclusos para Sentença': 10, 'Distribuído Livremente (por Sorteio) (movimentação exclusiva do distribuidor)': 619, 'Carta Expedida': 146, 'Conclusos para Decisão': 606, 'Incidente Processual Instaurado': 1, 'Certidão de Publicação Expedida': 446, 'Distribuído por Direcionamento (movimentação exclusiva do distribuidor)': 24, 'Conclusos para Despacho': 60, 'Suspensão do Prazo': 84, 'Recebidos os Autos da Conclusão': 1, 'Petição Juntada': 371, 'Carga à Vara Interna': 1, 'Processo Digitalizado': 1, 'Declarada incompetência': 42, 'Determinada a Emenda à Petição Inicial': 63, 'Redistribuído Livremente (por Sorteio) (movimentação exclusiva do distribuidor)': 54, 'Embargos de Declaração Não-Acolhidos': 10, 'Réplica Juntada': 20, 'Carta de Citação Expedida': 23, 'Mandado de Citação Expedido': 6, 'Remetidos os Autos para Outro Foro/Comarca deste Estado (movimentação exclusiva do distribuidor)': 52, 'Recebida a Petição Inicial': 26, 'Concedida em parte a Medida Liminar': 1, 'Guia Juntada': 17, 'Determinada a Redistribuição dos Autos': 45, 'Não Concedida a Medida Liminar': 5, 'Determinada a Inclusão de Partes no Cadastro do Processo Digital e/ou Recategorização de Doc. na Pasta do Processo Digi': 4, 'Arquivado Definitivamente': 26, 'Contestação Juntada': 44, 'Ato Ordinatório - Não Publicável': 28, 'Ato Ordinatório - Publicável': 100, 'AR Positivo Juntado': 127, 'Certidão de Cartório Expedida': 78, 'Carta Precatória Juntada': 1, 'Determinada a Retificação de Partes no Cadastro do Processo Digital': 1, 'Despacho': 14, 'Homologada a Transação de Acordo ExtraJudicial': 5, 'Embargos de Declaração Juntados': 15, 'Distribuído por Dependência (movimentação exclusiva do distribuidor)': 119, 'Decisão Determinação': 19, 'Apensado ao processo': 4, 'Alegações Finais Juntadas': 1, 'Remetidos os Autos para o Cartório Distribuidor Local para Redistribuição': 30, 'Mandado Devolvido Cumprido Positivo e Negativo': 1, 'Julgada improcedente a ação': 1, 'Pedido de Habilitação Juntado': 4, 'Concedida a Antecipação de tutela': 18, 'Recebida a Petição Inicial  - Citação Por Carta AR': 4, 'Declaração de Imposto de Renda Juntado': 4, 'Certidão de Não Consulta ao Teor da Informação - Contagem de Prazo do Ato - Expedida': 7, 'Recebido o recurso Com efeito suspensivo': 1, 'Concedida a Medida Liminar': 2, 'AR Negativo Juntado - Desconhecido': 6, 'Quesitos/Indicação de Assistente Juntados': 1, 'Apelação/Razões Juntada': 2, 'Pedido de Liminar/Tutela Antecipada Juntado': 6, 'Não Concedida a Antecipação de tutela': 29, 'Procuração/substabelecimento  Juntada': 5, 'Emenda à Inicial Juntada': 45, 'Ato ordinatório': 10, 'Especificação de Provas Juntada': 7, 'Mensagem Eletrônica (e-mail) Juntada': 4, 'Recebida a Emenda à Inicial': 5, 'Mero expediente': 4, 'Processo Entranhado': 30, 'Embargos de Declaração Acolhidos': 6, 'Ausência das condições da ação': 2, 'Designada Audiência de Conciliação': 5, 'Processo Suspenso por 6 meses': 2, 'Recebidos os Autos do Setor Técnico - Serviço de Psicologia': 1, 'AR Negativo Juntado - Mudou-se': 16, 'Pedido de Prazo Juntada': 2, 'Contrato Social/Atos Constitutivos/Carta de Preposição Juntado': 7, 'AR Negativo Juntado - Não Procurado': 8, 'Concedida em parte a Antecipação de Tutela': 5, 'Mandado Expedido': 6, 'Determinada a Recategorização de Documentos na Pasta do Processo Digital': 3, 'Documento Juntado': 15, 'Julgada Procedente a Ação': 4, 'AR Negativo Juntado': 1, 'Certidão de Remessa da Intimação Para o Portal Eletrônico Expedida': 3, 'Pedido de Citação - Endereço Localizado Juntado': 11, 'Comprovante de Depósito Juntada': 1, 'Carta Precatória Expedida': 3, 'Recebidos os Autos do Centro Jud. de Solução de Conflitos e Cidadania': 1, 'Recebidos os Autos da Assistente Social': 10, 'Assistência Judiciária Gratuita': 1, 'Pedido de Diligência em Novo Endereço Juntado': 3, 'Mandado Urgente Expedido': 1, 'Carta de Intimação Expedida': 5, 'Desistência': 6, 'Ofício Juntado': 4, 'Pedido de Homologação de Acordo Juntado': 8, 'Não Concedida a Assistência Judiciária Gratuita': 5, 'Concedida a Dilação de Prazo': 4, 'Exceção de Incompetência, suspeição ou Impedimento': 1, 'Ato Ordinatório - Intimação para Andamento - Autor': 1, 'Processo Suspenso ou Sobrestado por Decisão Judicial': 1, 'Trânsito em Julgado às partes - Proc. em Andamento': 1, 'Determinada a Inclusão e/ou Retif de Partes no Cadastro do Processo Digital e/ou Recategorização de Documentos na Pasta': 3, 'Custas de Mandato Juntadas': 2, 'Contrarrazões Juntada': 1, 'Decisão ou Despacho Concessão de efeito suspensivo Impugnação ao cumprimento de sentença': 1, 'Mandado Juntado': 3, 'Remetidos os Autos para Outro Tribunal Estadual (movimentação exclusiva do distribuidor)': 2, 'Cancelada a Distribuição (movimentação exclusiva do distribuidor)': 1, 'Agravo de Instrumento - Acórdão e Demais Peças Juntados - Com Trânsito em Julgado - Agravo Destruído': 3, 'Mandado Devolvido Cumprido Positivo': 6, 'Certidão Automática - Cadastro de Originário no 2º Grau – Expedida': 1, 'Pedido de Inclusão, Exclusão ou Substituição do Polo Passivo Juntado': 2, 'Ato Ordinatório - Réplica da Contestação': 5, 'Extinto o Processo sem Resolução do Mérito por Outras Hipóteses (Art. 485, X)': 2, 'Mudança de Classe Processual': 3, 'AR Negativo Juntado - Recusado': 1, 'Carta de Notificação Expedida': 4, 'Pedido de Expedição de Carta Precatória Juntado': 2, 'AR Negativo Juntado - Endereço Insuficiente': 1, 'AR Negativo Juntado - Não Existe Número Indicado': 2, 'Alvará Expedido': 1, 'Estimativa do Perito Juntada': 1, 'Ausência de pressupostos processuais': 1, 'Pedido de Expedição de Mandado de Levantamento Juntado': 1, 'Redistribuído por Dependência (movimentação exclusiva do distribuidor)': 1, 'Arquivado Provisoriamente': 2, 'Certidão do Art. 828 do CPC': 2, 'AR Negativo Juntado - Ausente': 1, 'Pedido de Extinção Juntada': 1, 'Pedido de Alteração de Endereço Juntado': 2, 'Certidão Juntada': 1, 'Remetidos os Autos para a Justiça Trabalhista (movimentação exclusiva do distribuidor)': 1, 'Protocolo Juntado': 1, 'Determinada a Inclusão de Partes no Cadastro do Processo Digital': 1}\n",
      "End activities: {'Certidão de Publicação Expedida': 1093, 'Início da Execução Juntado': 78, 'Petição Juntada': 459, 'Remetido ao DJE': 478, 'Conclusos para Decisão': 303, 'Remetidos os Autos para o Cartório Distribuidor Local para Redistribuição': 12, 'Suspensão do Prazo': 353, 'Certidão de Cartório Expedida': 276, 'Julgada Procedente em Parte a Ação': 2, 'Embargos de Declaração Juntados': 25, 'Decisão': 125, 'Ofício - Conflito de Competência - Expedido': 1, 'Recebidos os Autos da Conclusão': 1, 'Contrarrazões Juntada': 37, 'Certidão de Trânsito em Julgado com Baixa Expedida': 150, 'Trânsito em Julgado às partes - Proc. em Andamento': 34, 'Determinada a Redistribuição dos Autos': 2, 'Mandado Devolvido Cumprido Positivo': 3, 'Expedição de documento': 25, 'Julgada Procedente a Ação': 8, 'AR Positivo Juntado': 77, 'Recebidos os Autos do Outro Foro': 31, 'AR Negativo Juntado - Não Procurado': 15, 'Recebidos os Autos do Tribunal de Justiça': 16, 'Remetidos os Autos para o Tribunal de Justiça/Colégio Recursal - Processo Digital': 26, 'Réplica Juntada': 19, 'Distribuído Livremente (por Sorteio) (movimentação exclusiva do distribuidor)': 36, 'Contestação Juntada': 40, 'Apelação/Razões Juntada': 22, 'Ausência de pressupostos processuais': 1, 'Documento Juntado': 30, 'Remetidos os Autos para Outro Foro/Comarca deste Estado (movimentação exclusiva do distribuidor)': 4, 'Embargos de Declaração Acolhidos': 4, 'Conclusos para Sentença': 27, 'Emenda à Inicial Juntada': 32, 'Processo Entranhado': 82, 'Arquivado Definitivamente': 75, 'Trânsito em Julgado às partes - com Baixa': 2, 'Ato Ordinatório - Publicável': 39, 'Ofício Juntado': 11, 'Mandado de Citação Expedido': 22, 'Conclusos para Despacho': 144, 'Certidão de Honorários Expedida': 2, 'Carta Expedida': 44, 'Mandado de Levantamento Expedido': 7, 'Certidão de Não Consulta ao Teor da Informação - Contagem de Prazo do Ato - Expedida': 2, 'Especificação de Provas Juntada': 36, 'AR Negativo Juntado - Mudou-se': 6, 'Embargos de Declaração Não-Acolhidos': 12, 'Indeferida a Petição Inicial sem Resolução do Mérito': 5, 'Pedido de Homologação de Acordo Juntado': 14, 'Julgada improcedente a ação': 6, 'Recebida a Petição Inicial  - Citação Por Carta AR': 3, 'Comprovação da Distribuição da Carta Precatória Juntada': 5, 'Parecer Juntado': 1, 'Ofício Expedido': 3, 'Certidão de Objeto e Pé Expedida': 3, 'Ato Ordinatório - Não Publicável': 64, 'Incidente Processual Instaurado': 5, 'Rol de Testemunha Juntado': 9, 'Decisão Interlocutória de 2ª Instância Juntada': 4, 'Determinada a Emenda à Petição Inicial': 11, 'Concedida a Antecipação de tutela': 3, 'Manifestação Sobre a Impugnação Juntada': 3, 'Despacho': 1, 'Remetidos os Autos para Outro Tribunal Estadual (movimentação exclusiva do distribuidor)': 6, 'Mensagem Eletrônica (e-mail) Juntada': 13, 'Contrarrazões do Recurso Adesivo Juntado': 3, 'Agravo de Instrumento - Acórdão e Demais Peças Juntados - Com Trânsito em Julgado - Agravo Destruído': 20, 'Petição Renúncia de Mandato/Encargo Juntado': 3, 'Pedido de Informações Juntado': 1, 'Não Concedida a Antecipação de tutela': 5, 'Decisão Determinação': 2, 'Pedido de Habilitação Juntado': 4, 'Decisão de Saneamento do Processo': 5, 'Procuração/substabelecimento  Juntada': 3, 'Pedido de Citação - Endereço Localizado Juntado': 9, 'AR Negativo Juntado - Desconhecido': 7, 'Termo de Audiência Digitalizado': 1, 'Concedida a Dilação de Prazo': 4, 'AR Negativo Juntado - Não Existe Número Indicado': 4, 'Ausência das condições da ação': 2, 'Recebida a Petição Inicial': 5, 'Processo Desarquivado Com Reabertura': 4, 'Carta Precatória Expedida': 2, 'Pedido de Suspensão pelo Prazo de Parcelamento Juntado': 1, 'AR Negativo Juntado': 2, 'Distribuído por Dependência (movimentação exclusiva do distribuidor)': 38, 'Resposta de Verificação de Endereço Juntado': 11, 'Determinada a Inclusão de Partes no Cadastro do Processo Digital e/ou Recategorização de Doc. na Pasta do Processo Digi': 2, 'Arquivado Provisoriamente': 6, 'Processo Desarquivado Sem Reabertura': 8, 'Certidão de Trânsito em Julgado com Baixa Expedida-Art. 485, I, IV, VI e IX do CPC.': 5, 'Contrato Juntado': 1, 'Contrato Social/Atos Constitutivos/Carta de Preposição Juntado': 9, 'Pedido de Liminar/Tutela Antecipada Juntado': 7, 'Homologada a Transação de Acordo por Juiz, em Audiência': 2, 'Pedido de Prazo Juntada': 1, 'Desistência': 9, 'Alegações Finais Juntadas': 6, 'Ato Ordinatório - Réplica da Contestação': 2, 'Cancelada a Distribuição (movimentação exclusiva do distribuidor)': 2, 'Mandado Urgente Expedido': 2, 'Ato ordinatório': 2, 'Baixa Definitiva': 1, 'Redistribuído Livremente (por Sorteio) (movimentação exclusiva do distribuidor)': 5, 'Suscitado Conflito de Competência': 1, 'Pedido de Extinção Juntada': 3, 'Mudança de Classe Processual': 7, 'Edital Expedido': 8, 'Estimativa do Perito Juntada': 1, 'Carta de Intimação Expedida': 12, 'Embargos de Declaração Acolhidos em Parte': 2, 'Pedido de Suspensão do Processo por 360 Dias Juntado': 1, 'Concedida em parte a Antecipação de Tutela': 1, 'Trânsito em Julgado às partes': 1, 'Pedido de Diligência em Novo Endereço Juntado': 2, 'Pedido de Expedição de Mandado de Levantamento Juntado': 1, 'Impugnação ao Cumprimento de Sentença Juntada': 1, 'Recebidos os Autos da Assistente Social': 2, 'Abandono da causa': 1, 'Mandado Juntado': 1, 'Remetidos os Autos para a Justiça Federal (movimentação exclusiva do distribuidor)': 2, 'Carta de Notificação Expedida': 1, 'Mandado Expedido': 7, 'Trânsito em Julgado às partes - Suspenso': 2, 'Certidão de Intimação Expedida': 1, 'Apensado ao processo': 5, 'Remetidos os autos para o Cartório Distribuidor local para Cancelamento da Distribuição': 1, 'Intimação Juntada': 1, 'Realizado cálculo de custas': 1, 'Declarada incompetência': 1, 'Determinado o cancelamento da distribuição': 1, 'Guia Juntada': 1, 'AR Negativo Juntado - Endereço Insuficiente': 1, 'Ato Ordinatório - Intimação para Andamento - Autor': 1, 'Distribuído por Direcionamento (movimentação exclusiva do distribuidor)': 2, 'Esclarecimentos do Perito e Assistentes Técnicos Juntados': 1, 'Audiência Realizada': 1, 'Designada Audiência de Conciliação': 2, 'Pedido de Desarquivamento Juntado': 1, 'Mandado Devolvido Cumprido Parcialmente': 1, 'Pedido de Expedição de Carta Precatória Juntado': 1, 'Processo Suspenso ou Sobrestado por Decisão Judicial': 1, 'Carta de Citação Expedida': 2, 'Carta Precatória Juntada': 2, 'Pedido de Penhora no Rosto dos Autos Juntado': 1, 'Edital de Citação Expedido': 1, 'Mandado Devolvido Cumprido Negativo': 1, 'Certidão do Oficial de Justiça  Digitalizada': 1, 'Pedido de Citação por Edital do Executado Juntado': 2, 'Homologada Renúncia pelo Autor': 1, 'Termo Expedido': 1, 'Concedida a Medida Liminar': 1, 'Homologada a Transação de Acordo ExtraJudicial': 1, 'Certidão de Remessa da Intimação Para o Portal Eletrônico Expedida': 1, 'Convenção das Partes': 1, 'Remetidos os Autos para a Justiça Trabalhista (movimentação exclusiva do distribuidor)': 1, 'Bloqueio/Penhora on line - Positivo Juntado': 1, 'Protocolo Juntado': 1, 'Declaração de Imposto de Renda Juntado': 1}\n"
     ]
    }
   ],
   "source": [
    "event_log = pandas.read_csv('TJSP-BL-event-log.csv', sep=',')\n",
    "#lawsuit_id,date,movement,order,status,area,subject_matter,control,digital,class,distribution_date,court_department,claim_amount,judge\n",
    "event_log = pm4py.format_dataframe(event_log, case_id='lawsuit_id', activity_key='movement', timestamp_key='date')\n",
    "start_activities = pm4py.get_start_activities(event_log)\n",
    "end_activities = pm4py.get_end_activities(event_log)\n",
    "print(\"Start activities: {}\\nEnd activities: {}\".format(start_activities, end_activities))\n",
    "# the log is filtered on the top 5 variants\n",
    "#filtered_log = pm4py.filter_variants_top_k(event_log , 5)"
   ]
  },
  {
   "cell_type": "code",
   "execution_count": 3,
   "id": "b68b12ca-e4f4-418d-ad50-7d55c7eff074",
   "metadata": {},
   "outputs": [],
   "source": [
    "# a directly - follows graph (DFG) is discovered from the log\n",
    "dfg, start_activities, end_activities = pm4py.discover_dfg(event_log)\n"
   ]
  },
  {
   "cell_type": "code",
   "execution_count": null,
   "id": "612ccfc1-0c22-4fbb-8d49-630bbaf6957a",
   "metadata": {},
   "outputs": [],
   "source": [
    "# a process tree is discovered using the inductive miner\n",
    "process_tree = pm4py.discover_process_tree_inductive(event_log)"
   ]
  },
  {
   "cell_type": "code",
   "execution_count": null,
   "id": "001cc35d-5c6c-4744-8c1f-e9de3e07cf75",
   "metadata": {},
   "outputs": [],
   "source": [
    "# the process tree is converted to an accepting Petri net\n",
    "petri_net , initial_marking, final_marking = pm4py.convert_to_petri_net(process_tree)\n",
    "process_tree = pm4py.discover_process_tree_inductive(event_log)"
   ]
  },
  {
   "cell_type": "code",
   "execution_count": 7,
   "id": "adf0e0bc-cc52-4b2e-a1c7-9ff01b303812",
   "metadata": {},
   "outputs": [],
   "source": [
    "# the accepting Petri net is converted to a BPMN diagram\n",
    "bpmn_diagram = pm4py.convert_to_bpmn(petri_net, initial_marking, final_marking)"
   ]
  },
  {
   "cell_type": "code",
   "execution_count": null,
   "id": "debfb7e1-b5b5-49a4-a1cc-6a53849bbd50",
   "metadata": {},
   "outputs": [],
   "source": [
    "# the discovered process models are shown on the screen as .svg images\n",
    "pm4py.view_dfg(dfg, start_activities, end_activities, format='png')\n",
    "pm4py.view_process_tree(process_tree , format='png')\n",
    "pm4py.view_petri_net(petri_net, initial_marking, final_marking, format='png')\n",
    "pm4py.view_bpmn(bpmn_diagram, format='png')"
   ]
  },
  {
   "cell_type": "code",
   "execution_count": null,
   "id": "0ffcedee-6028-42f7-8932-8fa61792a6a9",
   "metadata": {},
   "outputs": [],
   "source": [
    "# we compare the original log versus the discovered model\n",
    "fitness = pm4py.fitness_token_based_replay(event_log, petri_net, initial_marking, final_marking)\n",
    "precision = pm4py.precision_token_based_replay(event_log, petri_net, initial_marking, final_marking)\n",
    "print(fitness) # 0.984\n",
    "print(precision) # 0.758\n",
    "# we check if the discovered model is a sound workflow net\n",
    "is_sound_wfnet = pm4py.check_soundness(petri_net, initial_marking, final_marking)[0]\n",
    "print(is_sound_wfnet) # True"
   ]
  },
  {
   "cell_type": "code",
   "execution_count": null,
   "id": "1fbee1f3-46b0-4b98-9ec7-cb0d7c47e7b4",
   "metadata": {},
   "outputs": [],
   "source": []
  }
 ],
 "metadata": {
  "kernelspec": {
   "display_name": "Python 3 (ipykernel)",
   "language": "python",
   "name": "python3"
  },
  "language_info": {
   "codemirror_mode": {
    "name": "ipython",
    "version": 3
   },
   "file_extension": ".py",
   "mimetype": "text/x-python",
   "name": "python",
   "nbconvert_exporter": "python",
   "pygments_lexer": "ipython3",
   "version": "3.12.7"
  }
 },
 "nbformat": 4,
 "nbformat_minor": 5
}
